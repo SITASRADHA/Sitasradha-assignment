{
 "cells": [
  {
   "cell_type": "markdown",
   "id": "095aa509",
   "metadata": {},
   "source": [
    "# 📘 Restaurant Chains Data Analysis — Practice Notebook\n",
    "\n",
    "This notebook contains hands-on exercises to analyze restaurant chains using Python, Pandas, Seaborn, and Matplotlib."
   ]
  },
  {
   "cell_type": "markdown",
   "id": "69795c1e",
   "metadata": {},
   "source": [
    "### 📂 Dataset Assumption:\n",
    "The dataset contains the following columns:\n",
    "- `restaurant_name`\n",
    "- `location`\n",
    "- `votes`\n",
    "- `aggregate_rating`\n",
    "- `cuisines`\n",
    "- `cost_for_two`\n",
    "\n",
    "---"
   ]
  },
  {
   "cell_type": "markdown",
   "id": "0897fffe",
   "metadata": {},
   "source": [
    "### 🧠 Basic Level"
   ]
  },
  {
   "cell_type": "markdown",
   "id": "01679d47",
   "metadata": {},
   "source": [
    "1. **Load the dataset** using Pandas and display the first 5 rows."
   ]
  },
  {
   "cell_type": "code",
   "execution_count": 1,
   "id": "c5cad944",
   "metadata": {},
   "outputs": [
    {
     "data": {
      "text/html": [
       "<div>\n",
       "<style scoped>\n",
       "    .dataframe tbody tr th:only-of-type {\n",
       "        vertical-align: middle;\n",
       "    }\n",
       "\n",
       "    .dataframe tbody tr th {\n",
       "        vertical-align: top;\n",
       "    }\n",
       "\n",
       "    .dataframe thead th {\n",
       "        text-align: right;\n",
       "    }\n",
       "</style>\n",
       "<table border=\"1\" class=\"dataframe\">\n",
       "  <thead>\n",
       "    <tr style=\"text-align: right;\">\n",
       "      <th></th>\n",
       "      <th>restaurant_name</th>\n",
       "      <th>location</th>\n",
       "      <th>votes</th>\n",
       "      <th>aggregate_rating</th>\n",
       "      <th>cuisines</th>\n",
       "      <th>cost_for_two</th>\n",
       "    </tr>\n",
       "  </thead>\n",
       "  <tbody>\n",
       "    <tr>\n",
       "      <th>0</th>\n",
       "      <td>Restaurant 126</td>\n",
       "      <td>Mumbai</td>\n",
       "      <td>3292</td>\n",
       "      <td>3.0</td>\n",
       "      <td>Continental</td>\n",
       "      <td>500</td>\n",
       "    </tr>\n",
       "    <tr>\n",
       "      <th>1</th>\n",
       "      <td>Restaurant 195</td>\n",
       "      <td>Kolkata</td>\n",
       "      <td>2882</td>\n",
       "      <td>3.0</td>\n",
       "      <td>Continental</td>\n",
       "      <td>1500</td>\n",
       "    </tr>\n",
       "    <tr>\n",
       "      <th>2</th>\n",
       "      <td>Restaurant 174</td>\n",
       "      <td>Chennai</td>\n",
       "      <td>3396</td>\n",
       "      <td>4.8</td>\n",
       "      <td>Bakery</td>\n",
       "      <td>500</td>\n",
       "    </tr>\n",
       "    <tr>\n",
       "      <th>3</th>\n",
       "      <td>Restaurant 21</td>\n",
       "      <td>Mumbai</td>\n",
       "      <td>2596</td>\n",
       "      <td>3.4</td>\n",
       "      <td>Continental</td>\n",
       "      <td>300</td>\n",
       "    </tr>\n",
       "    <tr>\n",
       "      <th>4</th>\n",
       "      <td>Restaurant 199</td>\n",
       "      <td>Hyderabad</td>\n",
       "      <td>2907</td>\n",
       "      <td>3.1</td>\n",
       "      <td>Chinese</td>\n",
       "      <td>300</td>\n",
       "    </tr>\n",
       "  </tbody>\n",
       "</table>\n",
       "</div>"
      ],
      "text/plain": [
       "  restaurant_name   location  votes  aggregate_rating     cuisines  \\\n",
       "0  Restaurant 126     Mumbai   3292               3.0  Continental   \n",
       "1  Restaurant 195    Kolkata   2882               3.0  Continental   \n",
       "2  Restaurant 174    Chennai   3396               4.8       Bakery   \n",
       "3   Restaurant 21     Mumbai   2596               3.4  Continental   \n",
       "4  Restaurant 199  Hyderabad   2907               3.1      Chinese   \n",
       "\n",
       "   cost_for_two  \n",
       "0           500  \n",
       "1          1500  \n",
       "2           500  \n",
       "3           300  \n",
       "4           300  "
      ]
     },
     "execution_count": 1,
     "metadata": {},
     "output_type": "execute_result"
    }
   ],
   "source": [
    "# Your code here\n",
    "import pandas as pd\n",
    "df = pd.read_csv('restaurants_cleaned.csv')\n",
    "df.head()"
   ]
  },
  {
   "cell_type": "markdown",
   "id": "27d8f0a1",
   "metadata": {},
   "source": [
    "2. How many **unique restaurants** are present in the dataset?"
   ]
  },
  {
   "cell_type": "code",
   "execution_count": 2,
   "id": "0bd56f20",
   "metadata": {},
   "outputs": [
    {
     "name": "stdout",
     "output_type": "stream",
     "text": [
      "Number of unique restaurants: 188\n"
     ]
    }
   ],
   "source": [
    "# Your code here\n",
    "unique_restaurants = df['restaurant_name'].nunique()\n",
    "print(\"Number of unique restaurants:\", unique_restaurants)\n"
   ]
  },
  {
   "cell_type": "markdown",
   "id": "a612e9bb",
   "metadata": {},
   "source": [
    "3. Find the **top 10 most frequently occurring** restaurant names."
   ]
  },
  {
   "cell_type": "code",
   "execution_count": 3,
   "id": "e8068add",
   "metadata": {},
   "outputs": [
    {
     "name": "stdout",
     "output_type": "stream",
     "text": [
      "Most Frequently occurring restaurant names are  restaurant_name\n",
      "Restaurant 55     8\n",
      "Restaurant 27     7\n",
      "Restaurant 67     6\n",
      "Restaurant 126    6\n",
      "Restaurant 1      6\n",
      "Restaurant 35     6\n",
      "Restaurant 52     6\n",
      "Restaurant 199    6\n",
      "Restaurant 83     6\n",
      "Restaurant 134    6\n",
      "Name: count, dtype: int64\n"
     ]
    }
   ],
   "source": [
    "# Your code here\n",
    "frequent_restaurants= df['restaurant_name'].value_counts().head(10)\n",
    "print(\"Most Frequently occurring restaurant names are \",frequent_restaurants)"
   ]
  },
  {
   "cell_type": "markdown",
   "id": "c96a39d6",
   "metadata": {},
   "source": [
    "4. How many restaurants have a rating **greater than 4.0**?"
   ]
  },
  {
   "cell_type": "code",
   "execution_count": 36,
   "id": "78c89424",
   "metadata": {},
   "outputs": [
    {
     "name": "stdout",
     "output_type": "stream",
     "text": [
      "Number of restaurants with rating > 4.0: 187\n"
     ]
    }
   ],
   "source": [
    "# Your code here\n",
    "df['aggregate_rating'] = pd.to_numeric(df['aggregate_rating'], errors='coerce')\n",
    "high_rating_restaurants = df[df['aggregate_rating'] > 4.0]\n",
    "count = high_rating_restaurants.shape[0]\n",
    "print(f\"Number of restaurants with rating > 4.0: {count}\")\n"
   ]
  },
  {
   "cell_type": "markdown",
   "id": "dbb3d220",
   "metadata": {},
   "source": [
    "5. Display the count of restaurants by **location** using a bar chart."
   ]
  },
  {
   "cell_type": "code",
   "execution_count": 5,
   "id": "cf0168ea",
   "metadata": {},
   "outputs": [
    {
     "data": {
      "image/png": "[encoded data removed]",
      "text/plain": [
       "<Figure size 1200x600 with 1 Axes>"
      ]
     },
     "metadata": {},
     "output_type": "display_data"
    }
   ],
   "source": [
    "# Your code here\n",
    "import matplotlib.pyplot as plt\n",
    "import seaborn as sns\n",
    "import warnings\n",
    "warnings.filterwarnings(action='ignore')\n",
    "\n",
    "location_counts = df['location'].value_counts().sort_values(ascending=False)\n",
    "\n",
    "plt.figure(figsize=(12, 6))\n",
    "sns.barplot(x=location_counts.index, y=location_counts.values, palette=\"viridis\")\n",
    "\n",
    "plt.xticks(rotation=45, ha='right')\n",
    "plt.title('Number of Restaurants by Location')\n",
    "plt.xlabel('Location')\n",
    "plt.ylabel('Count')\n",
    "plt.tight_layout()\n",
    "plt.show()"
   ]
  },
  {
   "cell_type": "markdown",
   "id": "602fddb5",
   "metadata": {},
   "source": [
    "### 📊 Intermediate Level"
   ]
  },
  {
   "cell_type": "markdown",
   "id": "5ec87f5b",
   "metadata": {},
   "source": [
    "6. Identify restaurant **chains** (names that appear more than 3 times)."
   ]
  },
  {
   "cell_type": "code",
   "execution_count": 37,
   "id": "1cf61128",
   "metadata": {},
   "outputs": [
    {
     "name": "stdout",
     "output_type": "stream",
     "text": [
      "Restaurant Chains (names appearing more than 3 times):\n",
      "restaurant_name\n",
      "Restaurant 55     8\n",
      "Restaurant 27     7\n",
      "Restaurant 67     6\n",
      "Restaurant 126    6\n",
      "Restaurant 1      6\n",
      "Restaurant 35     6\n",
      "Restaurant 52     6\n",
      "Restaurant 199    6\n",
      "Restaurant 83     6\n",
      "Restaurant 134    6\n",
      "Restaurant 71     6\n",
      "Restaurant 36     6\n",
      "Restaurant 85     5\n",
      "Restaurant 132    5\n",
      "Restaurant 172    5\n",
      "Restaurant 165    5\n",
      "Restaurant 5      5\n",
      "Restaurant 174    5\n",
      "Restaurant 145    5\n",
      "Restaurant 79     5\n",
      "Restaurant 50     5\n",
      "Restaurant 32     5\n",
      "Restaurant 38     5\n",
      "Restaurant 159    5\n",
      "Restaurant 107    5\n",
      "Restaurant 18     5\n",
      "Restaurant 200    5\n",
      "Restaurant 66     5\n",
      "Restaurant 116    4\n",
      "Restaurant 33     4\n",
      "Restaurant 146    4\n",
      "Restaurant 196    4\n",
      "Restaurant 182    4\n",
      "Restaurant 100    4\n",
      "Restaurant 150    4\n",
      "Restaurant 89     4\n",
      "Restaurant 31     4\n",
      "Restaurant 19     4\n",
      "Restaurant 42     4\n",
      "Restaurant 144    4\n",
      "Restaurant 99     4\n",
      "Restaurant 88     4\n",
      "Restaurant 96     4\n",
      "Restaurant 57     4\n",
      "Restaurant 191    4\n",
      "Restaurant 82     4\n",
      "Restaurant 90     4\n",
      "Restaurant 106    4\n",
      "Restaurant 58     4\n",
      "Restaurant 7      4\n",
      "Restaurant 168    4\n",
      "Restaurant 12     4\n",
      "Restaurant 20     4\n",
      "Restaurant 47     4\n",
      "Restaurant 15     4\n",
      "Restaurant 102    4\n",
      "Restaurant 24     4\n",
      "Restaurant 28     4\n",
      "Restaurant 195    4\n",
      "Name: count, dtype: int64\n"
     ]
    }
   ],
   "source": [
    "# Your code here\n",
    "name_counts = df['restaurant_name'].value_counts()\n",
    "chains = name_counts[name_counts > 3]\n",
    "print(\"Restaurant Chains (names appearing more than 3 times):\")\n",
    "print(chains)"
   ]
  },
  {
   "cell_type": "markdown",
   "id": "a2185a18",
   "metadata": {},
   "source": [
    "7. Create a new DataFrame of only **chain restaurants**."
   ]
  },
  {
   "cell_type": "code",
   "execution_count": null,
   "id": "5e35b0e7",
   "metadata": {},
   "outputs": [
    {
     "name": "stdout",
     "output_type": "stream",
     "text": [
      "  restaurant_name   location  votes  aggregate_rating     cuisines  \\\n",
      "0  Restaurant 126     Mumbai   3292               3.0  Continental   \n",
      "1  Restaurant 195    Kolkata   2882               3.0  Continental   \n",
      "2  Restaurant 174    Chennai   3396               4.8       Bakery   \n",
      "3  Restaurant 199  Hyderabad   2907               3.1      Chinese   \n",
      "4   Restaurant 67     Mumbai   4436               3.0      Chinese   \n",
      "\n",
      "   cost_for_two  \n",
      "0           500  \n",
      "1          1500  \n",
      "2           500  \n",
      "3           300  \n",
      "4          1200  \n",
      "Shape of chain restaurants DataFrame: (279, 6)\n"
     ]
    }
   ],
   "source": [
    "# Your code here\n",
    "chain_names = name_counts[name_counts > 3].index\n",
    "chain_df = df[df['restaurant_name'].isin(chain_names)].reset_index(drop=True)\n",
    "print(chain_df.head())\n",
    "print(f\"Shape of chain restaurants DataFrame: {chain_df.shape}\")"
   ]
  },
  {
   "cell_type": "markdown",
   "id": "ce8687c1",
   "metadata": {},
   "source": [
    "8. For each chain, calculate the **average aggregate rating**."
   ]
  },
  {
   "cell_type": "code",
   "execution_count": 40,
   "id": "671aed72",
   "metadata": {},
   "outputs": [
    {
     "name": "stdout",
     "output_type": "stream",
     "text": [
      "Average Aggregate Rating for Each Chain:\n",
      "restaurant_name\n",
      "Restaurant 52     4.283333\n",
      "Restaurant 35     4.283333\n",
      "Restaurant 132    4.120000\n",
      "Restaurant 200    4.120000\n",
      "Restaurant 38     4.080000\n",
      "Restaurant 15     4.075000\n",
      "Restaurant 55     4.075000\n",
      "Restaurant 42     4.075000\n",
      "Restaurant 89     4.050000\n",
      "Restaurant 82     4.000000\n",
      "Restaurant 182    3.975000\n",
      "Restaurant 90     3.975000\n",
      "Restaurant 50     3.940000\n",
      "Restaurant 7      3.925000\n",
      "Restaurant 134    3.916667\n",
      "Restaurant 99     3.900000\n",
      "Restaurant 199    3.900000\n",
      "Restaurant 79     3.880000\n",
      "Restaurant 47     3.850000\n",
      "Restaurant 24     3.850000\n",
      "Restaurant 146    3.825000\n",
      "Restaurant 145    3.820000\n",
      "Restaurant 116    3.800000\n",
      "Restaurant 102    3.775000\n",
      "Restaurant 5      3.760000\n",
      "Restaurant 174    3.760000\n",
      "Restaurant 1      3.750000\n",
      "Restaurant 83     3.750000\n",
      "Restaurant 191    3.750000\n",
      "Restaurant 32     3.740000\n",
      "Restaurant 57     3.725000\n",
      "Restaurant 19     3.700000\n",
      "Restaurant 107    3.700000\n",
      "Restaurant 100    3.700000\n",
      "Restaurant 66     3.680000\n",
      "Restaurant 27     3.671429\n",
      "Restaurant 58     3.650000\n",
      "Restaurant 71     3.650000\n",
      "Restaurant 195    3.650000\n",
      "Restaurant 33     3.625000\n",
      "Restaurant 172    3.540000\n",
      "Restaurant 12     3.500000\n",
      "Restaurant 168    3.500000\n",
      "Restaurant 31     3.500000\n",
      "Restaurant 67     3.466667\n",
      "Restaurant 85     3.400000\n",
      "Restaurant 126    3.400000\n",
      "Restaurant 159    3.400000\n",
      "Restaurant 196    3.375000\n",
      "Restaurant 96     3.325000\n",
      "Restaurant 150    3.300000\n",
      "Restaurant 88     3.300000\n",
      "Restaurant 165    3.300000\n",
      "Restaurant 20     3.275000\n",
      "Restaurant 18     3.260000\n",
      "Restaurant 106    3.250000\n",
      "Restaurant 28     3.175000\n",
      "Restaurant 36     3.133333\n",
      "Restaurant 144    2.975000\n",
      "Name: aggregate_rating, dtype: float64\n"
     ]
    }
   ],
   "source": [
    "# Your code here\n",
    "chain_df = df[df['restaurant_name'].isin(chain_names)]\n",
    "average_ratings = chain_df.groupby('restaurant_name')['aggregate_rating'].mean().sort_values(ascending=False)\n",
    "print(\"Average Aggregate Rating for Each Chain:\")\n",
    "print(average_ratings)"
   ]
  },
  {
   "cell_type": "markdown",
   "id": "af0d6f82",
   "metadata": {},
   "source": [
    "9. For each chain, calculate the **total number of votes** received."
   ]
  },
  {
   "cell_type": "code",
   "execution_count": 41,
   "id": "09aa7327",
   "metadata": {},
   "outputs": [
    {
     "name": "stdout",
     "output_type": "stream",
     "text": [
      "Total Number of Votes for Each Chain:\n",
      "restaurant_name\n",
      "Restaurant 66     18883\n",
      "Restaurant 27     18192\n",
      "Restaurant 132    18191\n",
      "Restaurant 50     16711\n",
      "Restaurant 42     16499\n",
      "Restaurant 47     16080\n",
      "Restaurant 126    15348\n",
      "Restaurant 82     15322\n",
      "Restaurant 35     15100\n",
      "Restaurant 71     15070\n",
      "Restaurant 1      14642\n",
      "Restaurant 55     14392\n",
      "Restaurant 67     14179\n",
      "Restaurant 79     14171\n",
      "Restaurant 144    14137\n",
      "Restaurant 134    14033\n",
      "Restaurant 36     13924\n",
      "Restaurant 196    13734\n",
      "Restaurant 106    13485\n",
      "Restaurant 52     13257\n",
      "Restaurant 174    12669\n",
      "Restaurant 116    12579\n",
      "Restaurant 15     12557\n",
      "Restaurant 165    12555\n",
      "Restaurant 83     12178\n",
      "Restaurant 38     11854\n",
      "Restaurant 150    11847\n",
      "Restaurant 88     11263\n",
      "Restaurant 33     11233\n",
      "Restaurant 159    11016\n",
      "Restaurant 18     10901\n",
      "Restaurant 172    10825\n",
      "Restaurant 191    10713\n",
      "Restaurant 57     10561\n",
      "Restaurant 145    10412\n",
      "Restaurant 199    10351\n",
      "Restaurant 96     10237\n",
      "Restaurant 99     10076\n",
      "Restaurant 85      9785\n",
      "Restaurant 195     9311\n",
      "Restaurant 28      9023\n",
      "Restaurant 146     8468\n",
      "Restaurant 5       8410\n",
      "Restaurant 168     8130\n",
      "Restaurant 107     7732\n",
      "Restaurant 7       7666\n",
      "Restaurant 200     7505\n",
      "Restaurant 89      7472\n",
      "Restaurant 20      7351\n",
      "Restaurant 182     7207\n",
      "Restaurant 24      6848\n",
      "Restaurant 19      6787\n",
      "Restaurant 102     6707\n",
      "Restaurant 32      6580\n",
      "Restaurant 12      6495\n",
      "Restaurant 90      6490\n",
      "Restaurant 31      6267\n",
      "Restaurant 100     4736\n",
      "Restaurant 58      4518\n",
      "Name: votes, dtype: int64\n"
     ]
    }
   ],
   "source": [
    "# Your code here\n",
    "total_votes = chain_df.groupby('restaurant_name')['votes'].sum().sort_values(ascending=False)\n",
    "print(\"Total Number of Votes for Each Chain:\")\n",
    "print(total_votes)"
   ]
  },
  {
   "cell_type": "markdown",
   "id": "4254d359",
   "metadata": {},
   "source": [
    "10. Visualize the **top 5 chains** with the highest average rating using a **Seaborn bar plot**."
   ]
  },
  {
   "cell_type": "code",
   "execution_count": 42,
   "id": "3cab3e68",
   "metadata": {},
   "outputs": [
    {
     "data": {
      "image/png": "[encoded data removed]",
      "text/plain": [
       "<Figure size 1000x600 with 1 Axes>"
      ]
     },
     "metadata": {},
     "output_type": "display_data"
    }
   ],
   "source": [
    "# Your code here\n",
    "average_ratings = chain_df.groupby('restaurant_name')['aggregate_rating'].mean()\n",
    "top5_chains = average_ratings.sort_values(ascending=False).head(5).reset_index()\n",
    "top5_chains.columns = ['restaurant_name', 'average_rating']\n",
    "plt.figure(figsize=(10, 6))\n",
    "sns.barplot(\n",
    "    data=top5_chains,\n",
    "    x='average_rating',\n",
    "    y='restaurant_name',\n",
    "    palette='viridis'\n",
    ")\n",
    "plt.title('Top 5 Chains with Highest Average Rating')\n",
    "plt.xlabel('Average Aggregate Rating')\n",
    "plt.ylabel('Restaurant Name')\n",
    "plt.xlim(0, 5)\n",
    "plt.tight_layout()\n",
    "plt.show()\n"
   ]
  },
  {
   "cell_type": "markdown",
   "id": "779b2a75",
   "metadata": {},
   "source": [
    "### 📈 Advanced Level"
   ]
  },
  {
   "cell_type": "markdown",
   "id": "39057cc9",
   "metadata": {},
   "source": [
    "11. Compare the **popularity (votes)** of top 5 chains **across locations** using a grouped bar chart."
   ]
  },
  {
   "cell_type": "code",
   "execution_count": 45,
   "id": "60ec288c",
   "metadata": {},
   "outputs": [
    {
     "data": {
      "image/png": "[encoded data removed]",
      "text/plain": [
       "<Figure size 1200x700 with 1 Axes>"
      ]
     },
     "metadata": {},
     "output_type": "display_data"
    }
   ],
   "source": [
    "# Your code here\n",
    "average_ratings = chain_df.groupby('restaurant_name')['aggregate_rating'].mean()\n",
    "top5_chains = average_ratings.sort_values(ascending=False).head(5).index\n",
    "top5_df = chain_df[chain_df['restaurant_name'].isin(top5_chains)]\n",
    "votes_per_chain_location = top5_df.groupby(['restaurant_name', 'location'])['votes'].sum().reset_index()\n",
    "plt.figure(figsize=(12, 7))\n",
    "sns.barplot(\n",
    "    data=votes_per_chain_location,\n",
    "    x='location',\n",
    "    y='votes',\n",
    "    hue='restaurant_name',\n",
    "    palette='tab10'\n",
    ")\n",
    "plt.title('Popularity (Votes) of Top 5 Chains Across Locations')\n",
    "plt.xlabel('Location')\n",
    "plt.ylabel('Total Votes')\n",
    "plt.xticks(rotation=45)\n",
    "plt.legend(title='Restaurant Chain', bbox_to_anchor=(1.05, 1), loc='upper left')\n",
    "plt.tight_layout()\n",
    "plt.show()\n"
   ]
  },
  {
   "cell_type": "markdown",
   "id": "fa2b606b",
   "metadata": {},
   "source": [
    "12. Plot a **boxplot** showing the distribution of ratings for the top 5 chains."
   ]
  },
  {
   "cell_type": "code",
   "execution_count": 46,
   "id": "4eefa59a",
   "metadata": {},
   "outputs": [
    {
     "data": {
      "image/png": "[encoded data removed]",
      "text/plain": [
       "<Figure size 1000x600 with 1 Axes>"
      ]
     },
     "metadata": {},
     "output_type": "display_data"
    }
   ],
   "source": [
    "# Your code here\n",
    "average_ratings = chain_df.groupby('restaurant_name')['aggregate_rating'].mean()\n",
    "top5_chains = average_ratings.sort_values(ascending=False).head(5).index\n",
    "top5_df = chain_df[chain_df['restaurant_name'].isin(top5_chains)]\n",
    "plt.figure(figsize=(10, 6))\n",
    "sns.boxplot(\n",
    "    data=top5_df,\n",
    "    x='restaurant_name',\n",
    "    y='aggregate_rating',\n",
    "    palette='Set2'\n",
    ")\n",
    "plt.title('Distribution of Ratings for Top 5 Chains')\n",
    "plt.xlabel('Restaurant Chain')\n",
    "plt.ylabel('Aggregate Rating')\n",
    "plt.ylim(0, 5)\n",
    "plt.xticks(rotation=20)\n",
    "plt.tight_layout()\n",
    "plt.show()\n"
   ]
  },
  {
   "cell_type": "markdown",
   "id": "ee18d2d8",
   "metadata": {},
   "source": [
    "13. Which locations have the **highest number of high-rated chain restaurants** (rating > 4.2)?"
   ]
  },
  {
   "cell_type": "code",
   "execution_count": 47,
   "id": "96aa7c49",
   "metadata": {},
   "outputs": [
    {
     "name": "stdout",
     "output_type": "stream",
     "text": [
      "Locations with the highest number of high-rated chain restaurants (rating > 4.2):\n",
      "location\n",
      "Delhi        14\n",
      "Hyderabad    14\n",
      "Ahmedabad    12\n",
      "Chennai       9\n",
      "Mumbai        9\n",
      "Pune          8\n",
      "Bangalore     8\n",
      "Kolkata       8\n",
      "Name: count, dtype: int64\n"
     ]
    }
   ],
   "source": [
    "# Your code here\n",
    "high_rated_chains = chain_df[chain_df['aggregate_rating'] > 4.2]\n",
    "location_counts = high_rated_chains['location'].value_counts()\n",
    "print(\"Locations with the highest number of high-rated chain restaurants (rating > 4.2):\")\n",
    "print(location_counts)\n"
   ]
  },
  {
   "cell_type": "markdown",
   "id": "288af3ac",
   "metadata": {},
   "source": [
    "14. Find the **average cost for two** for each chain. Sort in descending order."
   ]
  },
  {
   "cell_type": "code",
   "execution_count": 49,
   "id": "5256e6ab",
   "metadata": {},
   "outputs": [
    {
     "name": "stdout",
     "output_type": "stream",
     "text": [
      "Average Cost for Two for Each Chain (Descending):\n",
      "restaurant_name\n",
      "Restaurant 195    1250.000000\n",
      "Restaurant 106    1175.000000\n",
      "Restaurant 31     1175.000000\n",
      "Restaurant 52     1150.000000\n",
      "Restaurant 66     1140.000000\n",
      "Restaurant 196    1125.000000\n",
      "Restaurant 182    1125.000000\n",
      "Restaurant 55     1075.000000\n",
      "Restaurant 116    1075.000000\n",
      "Restaurant 27     1071.428571\n",
      "Restaurant 38     1060.000000\n",
      "Restaurant 168    1050.000000\n",
      "Restaurant 19     1050.000000\n",
      "Restaurant 67     1033.333333\n",
      "Restaurant 50     1020.000000\n",
      "Restaurant 150    1000.000000\n",
      "Restaurant 15     1000.000000\n",
      "Restaurant 90     1000.000000\n",
      "Restaurant 89      975.000000\n",
      "Restaurant 199     966.666667\n",
      "Restaurant 57      950.000000\n",
      "Restaurant 58      950.000000\n",
      "Restaurant 144     950.000000\n",
      "Restaurant 165     940.000000\n",
      "Restaurant 79      940.000000\n",
      "Restaurant 83      933.333333\n",
      "Restaurant 82      925.000000\n",
      "Restaurant 172     920.000000\n",
      "Restaurant 126     916.666667\n",
      "Restaurant 85      900.000000\n",
      "Restaurant 132     900.000000\n",
      "Restaurant 18      900.000000\n",
      "Restaurant 200     900.000000\n",
      "Restaurant 102     900.000000\n",
      "Restaurant 174     880.000000\n",
      "Restaurant 88      875.000000\n",
      "Restaurant 28      875.000000\n",
      "Restaurant 145     860.000000\n",
      "Restaurant 159     860.000000\n",
      "Restaurant 71      850.000000\n",
      "Restaurant 35      850.000000\n",
      "Restaurant 100     850.000000\n",
      "Restaurant 1       833.333333\n",
      "Restaurant 191     825.000000\n",
      "Restaurant 96      825.000000\n",
      "Restaurant 47      825.000000\n",
      "Restaurant 5       820.000000\n",
      "Restaurant 32      820.000000\n",
      "Restaurant 134     783.333333\n",
      "Restaurant 36      750.000000\n",
      "Restaurant 107     720.000000\n",
      "Restaurant 42      650.000000\n",
      "Restaurant 146     650.000000\n",
      "Restaurant 20      625.000000\n",
      "Restaurant 12      600.000000\n",
      "Restaurant 7       600.000000\n",
      "Restaurant 24      525.000000\n",
      "Restaurant 33      475.000000\n",
      "Restaurant 99      475.000000\n",
      "Name: cost_for_two, dtype: float64\n"
     ]
    }
   ],
   "source": [
    "# Your code here\n",
    "average_cost = chain_df.groupby('restaurant_name')['cost_for_two'].mean().sort_values(ascending=False)\n",
    "print(\"Average Cost for Two for Each Chain (Descending):\")\n",
    "print(average_cost)"
   ]
  },
  {
   "cell_type": "markdown",
   "id": "e0750f9f",
   "metadata": {},
   "source": [
    "15. Create a final summary table of top 5 chains including:\n",
    "   - Number of outlets\n",
    "   - Average rating\n",
    "   - Total votes\n",
    "   - Average cost for two"
   ]
  },
  {
   "cell_type": "code",
   "execution_count": 50,
   "id": "803ec26f",
   "metadata": {},
   "outputs": [
    {
     "name": "stdout",
     "output_type": "stream",
     "text": [
      "Final Summary Table of Top 5 Chains:\n",
      "  restaurant_name  number_of_outlets  average_rating  total_votes  \\\n",
      "0   Restaurant 35                  6        4.283333        15100   \n",
      "1   Restaurant 52                  6        4.283333        13257   \n",
      "2  Restaurant 132                  5        4.120000        18191   \n",
      "3  Restaurant 200                  5        4.120000         7505   \n",
      "4   Restaurant 38                  5        4.080000        11854   \n",
      "\n",
      "   average_cost_for_two  \n",
      "0                 850.0  \n",
      "1                1150.0  \n",
      "2                 900.0  \n",
      "3                 900.0  \n",
      "4                1060.0  \n"
     ]
    }
   ],
   "source": [
    "# Your code here\n",
    "average_ratings = chain_df.groupby('restaurant_name')['aggregate_rating'].mean()\n",
    "top5_chains = average_ratings.sort_values(ascending=False).head(5).index\n",
    "top5_df = chain_df[chain_df['restaurant_name'].isin(top5_chains)]\n",
    "summary = top5_df.groupby('restaurant_name').agg(\n",
    "    number_of_outlets = ('restaurant_name', 'count'),\n",
    "    average_rating = ('aggregate_rating', 'mean'),\n",
    "    total_votes = ('votes', 'sum'),\n",
    "    average_cost_for_two = ('cost_for_two', 'mean')\n",
    ").sort_values(by='average_rating', ascending=False).reset_index()\n",
    "print(\"Final Summary Table of Top 5 Chains:\")\n",
    "print(summary)"
   ]
  }
 ],
 "metadata": {
  "kernelspec": {
   "display_name": ".Swayansu",
   "language": "python",
   "name": "python3"
  },
  "language_info": {
   "codemirror_mode": {
    "name": "ipython",
    "version": 3
   },
   "file_extension": ".py",
   "mimetype": "text/x-python",
   "name": "python",
   "nbconvert_exporter": "python",
   "pygments_lexer": "ipython3",
   "version": "3.13.1"
  }
 },
 "nbformat": 4,
 "nbformat_minor": 5
}
